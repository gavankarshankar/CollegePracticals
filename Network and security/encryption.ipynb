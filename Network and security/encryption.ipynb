{
 "cells": [
  {
   "cell_type": "code",
   "execution_count": 1,
   "metadata": {},
   "outputs": [
    {
     "name": "stdout",
     "output_type": "stream",
     "text": [
      "A = 00 |  B = 01 |  C = 02 |  D = 03 |  E = 04 |  F = 05 |  G = 06 |  H = 07 |  I = 08 |  J = 09 |  K = 10 |  L = 11 |  M = 12 |  N = 13 |  O = 14 |  P = 15 |  Q = 16 |  R = 17 |  S = 18 |  T = 19 |  U = 20 |  V = 21 |  W = 22 |  X = 23 |  Y = 24 |  Z = 25 |  00 = 26 |  "
     ]
    }
   ],
   "source": [
    "#Encryption\n",
    "import string\n",
    "alphabets=[]\n",
    "code=[]\n",
    "\n",
    "for letter in string.ascii_uppercase:\n",
    "    alphabets.append(letter)\n",
    "\n",
    "alphabets.append('00')\n",
    "\n",
    "for i in range(0,26):\n",
    "    i=f'{i}'\n",
    "    if(len(i)==1):\n",
    "        i=f'0{i}'\n",
    "        code.append(i)\n",
    "    else:\n",
    "        code.append(i)\n",
    "code.append('26')\n",
    "\n",
    "def encryption(message):\n",
    "    enc_message=[]\n",
    "    for letter in message:\n",
    "        for alphabet in alphabets:\n",
    "            if(letter == alphabet):\n",
    "                #print('Alphabet  is',alphabet)\n",
    "                #print(\"Index of \",alphabet,\"is\",alphabets.index(letter))\n",
    "                #print(alphabet,\"=\",code[alphabets.index(letter)])\n",
    "                enc_message.append(code[alphabets.index(letter)])\n",
    "    return \" \".join(enc_message)\n",
    "\n",
    "def decryption(message):\n",
    "    text=[]\n",
    "    for letter in message:\n",
    "        for alphabet in alphabets:\n",
    "            if(letter == alphabet):\n",
    "                #print('Alphabet  is',alphabet)\n",
    "                #print(\"Index of \",alphabet,\"is\",alphabets.index(letter))\n",
    "                #print(alphabet,\"=\",code[alphabets.index(letter)])\n",
    "                text.append(alphabets[code.index(letter)])\n",
    "    return \" \".join(text)\n",
    "                \n",
    "for i in range(len(code)):\n",
    "    print(alphabets[i],\"=\",code[i],\"|\",end=\"  \")\n",
    "    \n",
    "plain_text=input(\"\\nEnter message:\").upper()\n",
    "encrypted_message=encryption(plain_text)\n",
    "print(\"\\nEncrypted message = \",encrypted_message)\n",
    "#decrypted_message=decryption(plain_text)\n",
    "#print(decrypted_message)\n",
    "\n",
    "\n",
    "\n",
    "\n",
    "\n",
    "\n",
    "\n"
   ]
  },
  {
   "cell_type": "markdown",
   "metadata": {},
   "source": []
  }
 ],
 "metadata": {
  "kernelspec": {
   "display_name": "Python 3",
   "language": "python",
   "name": "python3"
  },
  "language_info": {
   "codemirror_mode": {
    "name": "ipython",
    "version": 3
   },
   "file_extension": ".py",
   "mimetype": "text/x-python",
   "name": "python",
   "nbconvert_exporter": "python",
   "pygments_lexer": "ipython3",
   "version": "3.11.4"
  }
 },
 "nbformat": 4,
 "nbformat_minor": 2
}
